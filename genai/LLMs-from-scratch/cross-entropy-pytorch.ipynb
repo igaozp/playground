{
 "cells": [
  {
   "metadata": {},
   "cell_type": "markdown",
   "source": "## Test PyTorch: Understanding Onehot Encoding and Cross Entropy in PyTorch",
   "id": "f88b2ea2c457a5b7"
  },
  {
   "metadata": {},
   "cell_type": "markdown",
   "source": "Reference: https://github.com/rasbt/stat453-deep-learning-ss21/blob/main/L08/code/cross-entropy-pytorch.ipynb",
   "id": "155c602f509ae0c4"
  },
  {
   "cell_type": "code",
   "id": "initial_id",
   "metadata": {
    "collapsed": true,
    "ExecuteTime": {
     "end_time": "2025-09-11T13:18:12.707548Z",
     "start_time": "2025-09-11T13:18:12.704682Z"
    }
   },
   "source": "import torch",
   "outputs": [],
   "execution_count": 4
  },
  {
   "metadata": {},
   "cell_type": "markdown",
   "source": "### Onehot Encoding",
   "id": "980aa01edd2d0a98"
  },
  {
   "metadata": {
    "ExecuteTime": {
     "end_time": "2025-09-11T13:18:12.758753Z",
     "start_time": "2025-09-11T13:18:12.723717Z"
    }
   },
   "cell_type": "code",
   "source": [
    "def to_onehot(y, num_classes):\n",
    "    y_onehot = torch.zeros(y.size(0), num_classes)\n",
    "    y_onehot.scatter_(1, y.view(-1, 1).long(), 1).float()\n",
    "    return y_onehot\n",
    "\n",
    "y = torch.tensor([0, 1, 2, 2])\n",
    "y_enc = to_onehot(y, 3)\n",
    "\n",
    "print('one-hot encoding:\\n', y_enc)"
   ],
   "id": "e659b294fc55db2d",
   "outputs": [
    {
     "name": "stdout",
     "output_type": "stream",
     "text": [
      "one-hot encoding:\n",
      " tensor([[1., 0., 0.],\n",
      "        [0., 1., 0.],\n",
      "        [0., 0., 1.],\n",
      "        [0., 0., 1.]])\n"
     ]
    }
   ],
   "execution_count": 5
  },
  {
   "metadata": {},
   "cell_type": "markdown",
   "source": "### Softmax",
   "id": "f7cfe35862a35e1b"
  },
  {
   "metadata": {
    "ExecuteTime": {
     "end_time": "2025-09-11T13:18:12.771457Z",
     "start_time": "2025-09-11T13:18:12.766132Z"
    }
   },
   "cell_type": "code",
   "source": [
    "Z = torch.tensor( [[-0.3,  -0.5, -0.5],\n",
    "                   [-0.4,  -0.1, -0.5],\n",
    "                   [-0.3,  -0.94, -0.5],\n",
    "                   [-0.99, -0.88, -0.5]])\n",
    "Z"
   ],
   "id": "5bc5fe8d7f781d5c",
   "outputs": [
    {
     "data": {
      "text/plain": [
       "tensor([[-0.3000, -0.5000, -0.5000],\n",
       "        [-0.4000, -0.1000, -0.5000],\n",
       "        [-0.3000, -0.9400, -0.5000],\n",
       "        [-0.9900, -0.8800, -0.5000]])"
      ]
     },
     "execution_count": 6,
     "metadata": {},
     "output_type": "execute_result"
    }
   ],
   "execution_count": 6
  },
  {
   "metadata": {
    "ExecuteTime": {
     "end_time": "2025-09-11T13:18:12.816810Z",
     "start_time": "2025-09-11T13:18:12.811804Z"
    }
   },
   "cell_type": "code",
   "source": [
    "def softmax(z):\n",
    "    return (torch.exp(z.t()) / torch.sum(torch.exp(z), dim=1)).t()\n",
    "\n",
    "smax = softmax(Z)\n",
    "print('softmax:\\n', smax)"
   ],
   "id": "974d290aa31b3138",
   "outputs": [
    {
     "name": "stdout",
     "output_type": "stream",
     "text": [
      "softmax:\n",
      " tensor([[0.3792, 0.3104, 0.3104],\n",
      "        [0.3072, 0.4147, 0.2780],\n",
      "        [0.4263, 0.2248, 0.3490],\n",
      "        [0.2668, 0.2978, 0.4354]])\n"
     ]
    }
   ],
   "execution_count": 7
  },
  {
   "metadata": {
    "ExecuteTime": {
     "end_time": "2025-09-11T13:18:12.859054Z",
     "start_time": "2025-09-11T13:18:12.854664Z"
    }
   },
   "cell_type": "code",
   "source": [
    "def to_classlabel(z):\n",
    "    return torch.argmax(z, dim=1)\n",
    "\n",
    "print('predicted class label: ', to_classlabel(smax))\n",
    "print('true class label: ', to_classlabel(y_enc))"
   ],
   "id": "b16f517c24c3918e",
   "outputs": [
    {
     "name": "stdout",
     "output_type": "stream",
     "text": [
      "predicted class label:  tensor([0, 1, 0, 2])\n",
      "true class label:  tensor([0, 1, 2, 2])\n"
     ]
    }
   ],
   "execution_count": 8
  },
  {
   "metadata": {
    "ExecuteTime": {
     "end_time": "2025-09-11T13:25:26.152710Z",
     "start_time": "2025-09-11T13:25:26.147765Z"
    }
   },
   "cell_type": "code",
   "source": [
    "def cross_entropy(softmax, y_target):\n",
    "    return - torch.sum(torch.log(softmax) * (y_target), dim=1)\n",
    "\n",
    "xent = cross_entropy(smax, y_enc)\n",
    "print('Cross Entropy:', xent)"
   ],
   "id": "f4fbfc3bbb608e4e",
   "outputs": [
    {
     "name": "stdout",
     "output_type": "stream",
     "text": [
      "Cross Entropy: tensor([0.9698, 0.8801, 1.0527, 0.8314])\n"
     ]
    }
   ],
   "execution_count": 9
  },
  {
   "metadata": {
    "ExecuteTime": {
     "end_time": "2025-09-11T13:27:23.567895Z",
     "start_time": "2025-09-11T13:27:23.562850Z"
    }
   },
   "cell_type": "code",
   "source": [
    "import torch.nn.functional as F\n",
    "\n",
    "F.nll_loss(torch.log(smax), y, reduction='none')\n",
    "F.cross_entropy(Z, y, reduction='none')"
   ],
   "id": "13e21d854877ce11",
   "outputs": [
    {
     "data": {
      "text/plain": [
       "tensor([0.9698, 0.8801, 1.0527, 0.8314])"
      ]
     },
     "execution_count": 11,
     "metadata": {},
     "output_type": "execute_result"
    }
   ],
   "execution_count": 11
  },
  {
   "metadata": {
    "ExecuteTime": {
     "end_time": "2025-09-11T13:27:49.222261Z",
     "start_time": "2025-09-11T13:27:49.217729Z"
    }
   },
   "cell_type": "code",
   "source": "F.cross_entropy(Z, y)",
   "id": "a2d948315bc528db",
   "outputs": [
    {
     "data": {
      "text/plain": [
       "tensor(0.9335)"
      ]
     },
     "execution_count": 12,
     "metadata": {},
     "output_type": "execute_result"
    }
   ],
   "execution_count": 12
  },
  {
   "metadata": {
    "ExecuteTime": {
     "end_time": "2025-09-11T13:28:09.257303Z",
     "start_time": "2025-09-11T13:28:09.252447Z"
    }
   },
   "cell_type": "code",
   "source": "torch.mean(cross_entropy(smax, y_enc))",
   "id": "d3e7e283f139499d",
   "outputs": [
    {
     "data": {
      "text/plain": [
       "tensor(0.9335)"
      ]
     },
     "execution_count": 13,
     "metadata": {},
     "output_type": "execute_result"
    }
   ],
   "execution_count": 13
  }
 ],
 "metadata": {
  "kernelspec": {
   "display_name": "Python 3",
   "language": "python",
   "name": "python3"
  },
  "language_info": {
   "codemirror_mode": {
    "name": "ipython",
    "version": 2
   },
   "file_extension": ".py",
   "mimetype": "text/x-python",
   "name": "python",
   "nbconvert_exporter": "python",
   "pygments_lexer": "ipython2",
   "version": "2.7.6"
  }
 },
 "nbformat": 4,
 "nbformat_minor": 5
}
